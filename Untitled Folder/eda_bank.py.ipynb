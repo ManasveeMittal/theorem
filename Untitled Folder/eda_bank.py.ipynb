{
 "cells": [
  {
   "cell_type": "raw",
   "metadata": {},
   "source": [
    "The data is related with direct marketing campaigns of a Portuguese banking institution. \n",
    "   The marketing campaigns were based on phone calls. Often, more than one contact to the same client was required, \n",
    "   in order to access if the product (bank term deposit) would be (or not) subscribed. \n",
    "\n",
    "   There are two datasets: \n",
    "      1) bank-full.csv with all examples, ordered by date (from May 2008 to November 2010).\n",
    "      2) bank.csv with 10% of the examples (4521), randomly selected from bank-full.csv.\n",
    "   The smallest dataset is provided to test more computationally demanding machine learning algorithms (e.g. SVM).\n",
    "\n",
    "   The classification goal is to predict if the client will subscribe a term deposit (variable y).\n",
    "\n",
    "In this notebook, we will try and explore the basic information about the dataset given"
   ]
  },
  {
   "cell_type": "code",
   "execution_count": 27,
   "metadata": {
    "collapsed": false
   },
   "outputs": [
    {
     "name": "stderr",
     "output_type": "stream",
     "text": [
      "/home/manavee/anaconda3/lib/python3.6/site-packages/sklearn/cross_validation.py:44: DeprecationWarning: This module was deprecated in version 0.18 in favor of the model_selection module into which all the refactored classes and functions are moved. Also note that the interface of the new CV iterators are different from that of this module. This module will be removed in 0.20.\n",
      "  \"This module will be removed in 0.20.\", DeprecationWarning)\n",
      "/home/manavee/anaconda3/lib/python3.6/site-packages/sklearn/grid_search.py:43: DeprecationWarning: This module was deprecated in version 0.18 in favor of the model_selection module into which all the refactored classes and functions are moved. This module will be removed in 0.20.\n",
      "  DeprecationWarning)\n"
     ]
    }
   ],
   "source": [
    "# Let us start by importing the necessary modules.\n",
    "\n",
    "import numpy as np # linear algebra\n",
    "import pandas as pd # data processing, CSV file I/O (e.g. pd.read_csv)\n",
    "import matplotlib.pyplot as plt\n",
    "import seaborn as sns\n",
    "from subprocess import check_output\n",
    "import os\n",
    "from pprint import pprint\n",
    "from sklearn.ensemble import GradientBoostingClassifier  #GBM algorithm\n",
    "from sklearn import cross_validation, metrics   #Additional scklearn functions\n",
    "from sklearn.grid_search import GridSearchCV   #Perforing grid search\n",
    "from matplotlib.pylab import rcParams\n",
    "\n",
    "color = sns.color_palette()\n",
    "# encoding = 'latin1'\n",
    "%matplotlib inline\n",
    "\n",
    "pd.options.mode.chained_assignment = None  # default='warn'"
   ]
  },
  {
   "cell_type": "code",
   "execution_count": 9,
   "metadata": {
    "collapsed": false
   },
   "outputs": [
    {
     "name": "stdout",
     "output_type": "stream",
     "text": [
      "bank-additional.csv\n",
      "bank-additional-full.csv\n",
      "bank-additional-names.txt\n",
      "\n"
     ]
    }
   ],
   "source": [
    "# Let us list out the files that are present in this competition\n",
    "sys_dir = '/home/manavee/'\n",
    "parent_dir = sys_dir +'dump_R1/data_master/'\n",
    "data_dir1 = parent_dir +'bank_marketing_campaign/bank-additional/bank-additional/'\n",
    "file_1 = data_dir1 +'bank-additional.csv'\n",
    "\n",
    "\n",
    "# print(check_output([\"ls\"]).decode(\"utf8\"))\n",
    "os.chdir(data_dir1)\n",
    "print(check_output([\"ls\"]).decode(\"utf8\"))\n",
    "\n"
   ]
  },
  {
   "cell_type": "code",
   "execution_count": 16,
   "metadata": {
    "collapsed": false
   },
   "outputs": [
    {
     "name": "stdout",
     "output_type": "stream",
     "text": [
      "   age          job  marital          education default  housing     loan  \\\n",
      "0   30  blue-collar  married           basic.9y      no      yes       no   \n",
      "1   39     services   single        high.school      no       no       no   \n",
      "2   25     services  married        high.school      no      yes       no   \n",
      "3   38     services  married           basic.9y      no  unknown  unknown   \n",
      "4   47       admin.  married  university.degree      no      yes       no   \n",
      "\n",
      "     contact month day_of_week ...  campaign  pdays  previous     poutcome  \\\n",
      "0   cellular   may         fri ...         2    999         0  nonexistent   \n",
      "1  telephone   may         fri ...         4    999         0  nonexistent   \n",
      "2  telephone   jun         wed ...         1    999         0  nonexistent   \n",
      "3  telephone   jun         fri ...         3    999         0  nonexistent   \n",
      "4   cellular   nov         mon ...         1    999         0  nonexistent   \n",
      "\n",
      "  emp.var.rate  cons.price.idx  cons.conf.idx  euribor3m  nr.employed   y  \n",
      "0         -1.8          92.893          -46.2      1.313       5099.1  no  \n",
      "1          1.1          93.994          -36.4      4.855       5191.0  no  \n",
      "2          1.4          94.465          -41.8      4.962       5228.1  no  \n",
      "3          1.4          94.465          -41.8      4.959       5228.1  no  \n",
      "4         -0.1          93.200          -42.0      4.191       5195.8  no  \n",
      "\n",
      "[5 rows x 21 columns]\n"
     ]
    }
   ],
   "source": [
    "bank_df = pd.read_csv(file_1,sep=';')\n",
    "pprint(bank_df.head())"
   ]
  },
  {
   "cell_type": "code",
   "execution_count": 15,
   "metadata": {
    "collapsed": false
   },
   "outputs": [
    {
     "name": "stdout",
     "output_type": "stream",
     "text": [
      "['age',\n",
      " 'job',\n",
      " 'marital',\n",
      " 'education',\n",
      " 'default',\n",
      " 'housing',\n",
      " 'loan',\n",
      " 'contact',\n",
      " 'month',\n",
      " 'day_of_week',\n",
      " 'duration',\n",
      " 'campaign',\n",
      " 'pdays',\n",
      " 'previous',\n",
      " 'poutcome',\n",
      " 'emp.var.rate',\n",
      " 'cons.price.idx',\n",
      " 'cons.conf.idx',\n",
      " 'euribor3m',\n",
      " 'nr.employed',\n",
      " 'y']\n"
     ]
    }
   ],
   "source": [
    "pprint(list(bank_df.columns))"
   ]
  },
  {
   "cell_type": "code",
   "execution_count": 22,
   "metadata": {
    "collapsed": true
   },
   "outputs": [],
   "source": [
    "def col_summary(col_name): #this i am doing currently\n",
    "    \"\"\"summarise all cols\"\"\"\n",
    "    from pandas.api.types import is_numeric_dtype, is_string_dtype\n",
    "    col = df[col_name]\n",
    "    TotalRows = len(df)\n",
    "    TotalUniqueLevels = col.nunique()\n",
    "    PercentUniqueValues = TotalUniqueLevels/TotalRows\n",
    "    TotalNullValues = col.isnull().sum()\n",
    "    PercentNullValues = TotalNullValues/TotalRows\n",
    "    IdColFlag = TotalRows==TotalUniqueLevels\n",
    "#     DataType = columntype(col)\n",
    "    DataType = 'yettobedefined'\n",
    "    UniqueValue = col.value_counts().to_dict() if TotalUniqueLevels <= 10 else {}\n",
    "    mean = round(col.mean(),2) if DataType == 'numeric' else None\n",
    "    min = round(col.min(),2) if DataType == 'numeric' else None\n",
    "    q1 = round(col.quantile(q=0.25),2) if DataType == 'numeric' else None\n",
    "    median = round(col.median(),2) if DataType == 'numeric' else None\n",
    "    q3 = round(col.quantile(q=0.75),2) if DataType == 'numeric' else None\n",
    "    max = round(col.max(),2) if DataType == 'numeric' else None\n",
    "    null_flag = col.isnull().all()\n",
    "    constant_flag = TotalUniqueLevels==1\n",
    "    output = [TotalRows,TotalUniqueLevels,PercentUniqueValues,TotalNullValues, PercentNullValues,IdColFlag,\\\n",
    "              DataType,UniqueValue,min,q1,mean,median,q3,max,null_flag,constant_flag]\n",
    "    return output\n",
    "\n",
    "\n"
   ]
  },
  {
   "cell_type": "code",
   "execution_count": 24,
   "metadata": {
    "collapsed": false
   },
   "outputs": [
    {
     "name": "stdout",
     "output_type": "stream",
     "text": [
      "          col_name  TotalRows  TotalUniqueLevels  PercentUniqueValues  \\\n",
      "0              age       4119                 67             0.016266   \n",
      "1              job       4119                 12             0.002913   \n",
      "2          marital       4119                  4             0.000971   \n",
      "3        education       4119                  8             0.001942   \n",
      "4          default       4119                  3             0.000728   \n",
      "5          housing       4119                  3             0.000728   \n",
      "6             loan       4119                  3             0.000728   \n",
      "7          contact       4119                  2             0.000486   \n",
      "8            month       4119                 10             0.002428   \n",
      "9      day_of_week       4119                  5             0.001214   \n",
      "10        duration       4119                828             0.201020   \n",
      "11        campaign       4119                 25             0.006069   \n",
      "12           pdays       4119                 21             0.005098   \n",
      "13        previous       4119                  7             0.001699   \n",
      "14        poutcome       4119                  3             0.000728   \n",
      "15    emp.var.rate       4119                 10             0.002428   \n",
      "16  cons.price.idx       4119                 26             0.006312   \n",
      "17   cons.conf.idx       4119                 26             0.006312   \n",
      "18       euribor3m       4119                234             0.056810   \n",
      "19     nr.employed       4119                 11             0.002671   \n",
      "20               y       4119                  2             0.000486   \n",
      "\n",
      "    TotalNullValues  PercentNullValues IdColFlag        DataType  \\\n",
      "0                 0                0.0     False  yettobedefined   \n",
      "1                 0                0.0     False  yettobedefined   \n",
      "2                 0                0.0     False  yettobedefined   \n",
      "3                 0                0.0     False  yettobedefined   \n",
      "4                 0                0.0     False  yettobedefined   \n",
      "5                 0                0.0     False  yettobedefined   \n",
      "6                 0                0.0     False  yettobedefined   \n",
      "7                 0                0.0     False  yettobedefined   \n",
      "8                 0                0.0     False  yettobedefined   \n",
      "9                 0                0.0     False  yettobedefined   \n",
      "10                0                0.0     False  yettobedefined   \n",
      "11                0                0.0     False  yettobedefined   \n",
      "12                0                0.0     False  yettobedefined   \n",
      "13                0                0.0     False  yettobedefined   \n",
      "14                0                0.0     False  yettobedefined   \n",
      "15                0                0.0     False  yettobedefined   \n",
      "16                0                0.0     False  yettobedefined   \n",
      "17                0                0.0     False  yettobedefined   \n",
      "18                0                0.0     False  yettobedefined   \n",
      "19                0                0.0     False  yettobedefined   \n",
      "20                0                0.0     False  yettobedefined   \n",
      "\n",
      "                                          UniqueValue   Min    Q1  Mean  \\\n",
      "0                                                  {}  None  None  None   \n",
      "1                                                  {}  None  None  None   \n",
      "2   {'married': 2509, 'single': 1153, 'divorced': ...  None  None  None   \n",
      "3   {'university.degree': 1264, 'high.school': 921...  None  None  None   \n",
      "4              {'no': 3315, 'unknown': 803, 'yes': 1}  None  None  None   \n",
      "5           {'yes': 2175, 'no': 1839, 'unknown': 105}  None  None  None   \n",
      "6            {'no': 3349, 'yes': 665, 'unknown': 105}  None  None  None   \n",
      "7               {'cellular': 2652, 'telephone': 1467}  None  None  None   \n",
      "8   {'may': 1378, 'jul': 711, 'aug': 636, 'jun': 5...  None  None  None   \n",
      "9   {'thu': 860, 'mon': 855, 'tue': 841, 'wed': 79...  None  None  None   \n",
      "10                                                 {}  None  None  None   \n",
      "11                                                 {}  None  None  None   \n",
      "12                                                 {}  None  None  None   \n",
      "13  {0: 3523, 1: 475, 2: 78, 3: 25, 4: 14, 6: 2, 5...  None  None  None   \n",
      "14  {'nonexistent': 3523, 'failure': 454, 'success...  None  None  None   \n",
      "15  {1.4: 1626, -1.8: 883, 1.1: 758, -0.1: 392, -2...  None  None  None   \n",
      "16                                                 {}  None  None  None   \n",
      "17                                                 {}  None  None  None   \n",
      "18                                                 {}  None  None  None   \n",
      "19                                                 {}  None  None  None   \n",
      "20                           {'no': 3668, 'yes': 451}  None  None  None   \n",
      "\n",
      "   Median    Q3   Max Null_flag Constant_flag  \n",
      "0    None  None  None     False         False  \n",
      "1    None  None  None     False         False  \n",
      "2    None  None  None     False         False  \n",
      "3    None  None  None     False         False  \n",
      "4    None  None  None     False         False  \n",
      "5    None  None  None     False         False  \n",
      "6    None  None  None     False         False  \n",
      "7    None  None  None     False         False  \n",
      "8    None  None  None     False         False  \n",
      "9    None  None  None     False         False  \n",
      "10   None  None  None     False         False  \n",
      "11   None  None  None     False         False  \n",
      "12   None  None  None     False         False  \n",
      "13   None  None  None     False         False  \n",
      "14   None  None  None     False         False  \n",
      "15   None  None  None     False         False  \n",
      "16   None  None  None     False         False  \n",
      "17   None  None  None     False         False  \n",
      "18   None  None  None     False         False  \n",
      "19   None  None  None     False         False  \n",
      "20   None  None  None     False         False  \n"
     ]
    }
   ],
   "source": [
    "df = bank_df\n",
    "t = pd.DataFrame(df.columns,columns=['col_name'])\n",
    "t['TotalRows'],t['TotalUniqueLevels'],t['PercentUniqueValues'],t['TotalNullValues'],t['PercentNullValues']\\\n",
    ",t['IdColFlag'],t['DataType'],t['UniqueValue'],t['Min'],t['Q1'],t['Mean'],t['Median'],t['Q3'],t['Max']\\\n",
    ",t['Null_flag'],t['Constant_flag'] = zip(*t['col_name'].map(col_summary))  #pass multiple params to map\n",
    "pprint(t)\n",
    "del df"
   ]
  },
  {
   "cell_type": "code",
   "execution_count": 17,
   "metadata": {
    "collapsed": false
   },
   "outputs": [
    {
     "data": {
      "image/png": "[encoded data removed]",
      "text/plain": [
       "<matplotlib.figure.Figure at 0x7ff77d0bb128>"
      ]
     },
     "metadata": {},
     "output_type": "display_data"
    }
   ],
   "source": [
    "cnt_srs = bank_df.y.value_counts()\n",
    "\n",
    "plt.figure(figsize=(12,8))\n",
    "sns.barplot(cnt_srs.index, cnt_srs.values, alpha=0.8, color=color[1])\n",
    "plt.ylabel('Number of Occurrences', fontsize=12)\n",
    "plt.xlabel('Eval set type', fontsize=12)\n",
    "plt.title('Count of rows in each dataset', fontsize=15)\n",
    "plt.xticks(rotation='vertical')\n",
    "plt.show()"
   ]
  },
  {
   "cell_type": "markdown",
   "metadata": {
    "collapsed": true
   },
   "source": [
    "# parameter tuning gbm (by analytics vidhya)"
   ]
  },
  {
   "cell_type": "code",
   "execution_count": null,
   "metadata": {
    "collapsed": true
   },
   "outputs": [],
   "source": [
    "#Import libraries:\n",
    "import pandas as pd\n",
    "import numpy as np\n",
    "from sklearn.ensemble import GradientBoostingClassifier  #GBM algorithm\n",
    "from sklearn import cross_validation, metrics   #Additional scklearn functions\n",
    "from sklearn.grid_search import GridSearchCV   #Perforing grid search\n",
    "\n",
    "import matplotlib.pylab as plt\n",
    "%matplotlib inline\n",
    "from matplotlib.pylab import rcParams\n"
   ]
  },
  {
   "cell_type": "code",
   "execution_count": 30,
   "metadata": {
    "collapsed": false
   },
   "outputs": [
    {
     "name": "stdout",
     "output_type": "stream",
     "text": [
      "Test_bCtAN1w.csv\n",
      "Train_nyOWmfK.csv\n",
      "\n"
     ]
    }
   ],
   "source": [
    "# Let us list out the files that are present in this competition\n",
    "sys_dir = '/home/manavee/'\n",
    "parent_dir = sys_dir +'dump_R1/data_master/'\n",
    "data_dir1 = parent_dir +'bank_av_hackathon_2015/'\n",
    "file_1 = data_dir1 +'bank-additional.csv'\n",
    "\n",
    "\n",
    "# print(check_output([\"ls\"]).decode(\"utf8\"))\n",
    "os.chdir(data_dir1)\n",
    "print(check_output([\"ls\"]).decode(\"utf8\"))\n"
   ]
  },
  {
   "cell_type": "markdown",
   "metadata": {},
   "source": [
    "# data formatting"
   ]
  },
  {
   "cell_type": "code",
   "execution_count": 45,
   "metadata": {
    "collapsed": false
   },
   "outputs": [
    {
     "name": "stdout",
     "output_type": "stream",
     "text": [
      "[(87020, 26), (37717, 24)]\n"
     ]
    }
   ],
   "source": [
    "#Load data:\n",
    "train = pd.read_csv('Train_nyOWmfK.csv',encoding='latin1')\n",
    "test = pd.read_csv('Test_bCtAN1w.csv',encoding='latin1')\n",
    "pprint([train.shape, test.shape])"
   ]
  },
  {
   "cell_type": "code",
   "execution_count": 46,
   "metadata": {
    "collapsed": false
   },
   "outputs": [
    {
     "name": "stdout",
     "output_type": "stream",
     "text": [
      "ID                        object\n",
      "Gender                    object\n",
      "City                      object\n",
      "Monthly_Income             int64\n",
      "DOB                       object\n",
      "Lead_Creation_Date        object\n",
      "Loan_Amount_Applied      float64\n",
      "Loan_Tenure_Applied      float64\n",
      "Existing_EMI             float64\n",
      "Employer_Name             object\n",
      "Salary_Account            object\n",
      "Mobile_Verified           object\n",
      "Var5                       int64\n",
      "Var1                      object\n",
      "Loan_Amount_Submitted    float64\n",
      "Loan_Tenure_Submitted    float64\n",
      "Interest_Rate            float64\n",
      "Processing_Fee           float64\n",
      "EMI_Loan_Submitted       float64\n",
      "Filled_Form               object\n",
      "Device_Type               object\n",
      "Var2                      object\n",
      "Source                    object\n",
      "Var4                       int64\n",
      "LoggedIn                   int64\n",
      "Disbursed                  int64\n",
      "dtype: object\n"
     ]
    }
   ],
   "source": [
    "pprint(train.dtypes)"
   ]
  },
  {
   "cell_type": "code",
   "execution_count": 58,
   "metadata": {
    "collapsed": false
   },
   "outputs": [
    {
     "name": "stdout",
     "output_type": "stream",
     "text": [
      "(124737, 27)\n"
     ]
    }
   ],
   "source": [
    "#Combine into data:\n",
    "train['source']= 'train'\n",
    "test['source'] = 'test'\n",
    "data=pd.concat([train, test],ignore_index=True)\n",
    "pprint(data.shape)"
   ]
  },
  {
   "cell_type": "code",
   "execution_count": 63,
   "metadata": {
    "collapsed": false
   },
   "outputs": [
    {
     "data": {
      "text/plain": [
       "City                                                                    {}\n",
       "DOB                                                                     {}\n",
       "Device_Type                        {'Web-browser': 92105, 'Mobile': 32632}\n",
       "Disbursed                                          {0.0: 85747, 1.0: 1273}\n",
       "EMI_Loan_Submitted                                                      {}\n",
       "Employer_Name                                                           {}\n",
       "Existing_EMI                                                            {}\n",
       "Filled_Form                                       {'N': 96740, 'Y': 27997}\n",
       "Gender                                    {'Male': 71398, 'Female': 53339}\n",
       "ID                                                                      {}\n",
       "Interest_Rate                                                           {}\n",
       "Lead_Creation_Date                                                      {}\n",
       "Loan_Amount_Applied                                                     {}\n",
       "Loan_Amount_Submitted                                                   {}\n",
       "Loan_Tenure_Applied                                                     {}\n",
       "Loan_Tenure_Submitted    {5.0: 29803, 4.0: 21820, 3.0: 12734, 2.0: 7580...\n",
       "LoggedIn                                           {0.0: 84466, 1.0: 2554}\n",
       "Mobile_Verified                                   {'Y': 80928, 'N': 43809}\n",
       "Monthly_Income                                                          {}\n",
       "Processing_Fee                                                          {}\n",
       "Salary_Account                                                          {}\n",
       "Source                                                                  {}\n",
       "Var1                                                                    {}\n",
       "Var2                     {'B': 53481, 'G': 47338, 'C': 20366, 'E': 1855...\n",
       "Var4                     {3: 36280, 1: 34316, 5: 29092, 4: 9411, 2: 848...\n",
       "Var5                                                                    {}\n",
       "source                                     {'train': 87020, 'test': 37717}\n",
       "dtype: object"
      ]
     },
     "execution_count": 63,
     "metadata": {},
     "output_type": "execute_result"
    }
   ],
   "source": [
    "data.apply(lambda col: col.value_counts().to_dict() if col.nunique() <= 10 else {})"
   ]
  },
  {
   "cell_type": "code",
   "execution_count": 64,
   "metadata": {
    "collapsed": false
   },
   "outputs": [
    {
     "data": {
      "text/plain": [
       "City                      1401\n",
       "DOB                          0\n",
       "Device_Type                  0\n",
       "Disbursed                37717\n",
       "EMI_Loan_Submitted       84901\n",
       "Employer_Name              113\n",
       "Existing_EMI               111\n",
       "Filled_Form                  0\n",
       "Gender                       0\n",
       "ID                           0\n",
       "Interest_Rate            84901\n",
       "Lead_Creation_Date           0\n",
       "Loan_Amount_Applied        111\n",
       "Loan_Amount_Submitted    49535\n",
       "Loan_Tenure_Applied        111\n",
       "Loan_Tenure_Submitted    49535\n",
       "LoggedIn                 37717\n",
       "Mobile_Verified              0\n",
       "Monthly_Income               0\n",
       "Processing_Fee           85346\n",
       "Salary_Account           16801\n",
       "Source                       0\n",
       "Var1                         0\n",
       "Var2                         0\n",
       "Var4                         0\n",
       "Var5                         0\n",
       "source                       0\n",
       "dtype: int64"
      ]
     },
     "execution_count": 64,
     "metadata": {},
     "output_type": "execute_result"
    }
   ],
   "source": [
    "# Check missing:¶\n",
    "data.apply(lambda x: sum(x.isnull()))"
   ]
  },
  {
   "cell_type": "code",
   "execution_count": 69,
   "metadata": {
    "collapsed": false
   },
   "outputs": [
    {
     "name": "stdout",
     "output_type": "stream",
     "text": [
      "'Frequency count for variable Gender'\n",
      "Male      71398\n",
      "Female    53339\n",
      "Name: Gender, dtype: int64\n",
      "'Frequency count for variable Salary_Account'\n",
      "HDFC Bank                                          25180\n",
      "ICICI Bank                                         19547\n",
      "State Bank of India                                17110\n",
      "Axis Bank                                          12590\n",
      "Citibank                                            3398\n",
      "Kotak Bank                                          2955\n",
      "IDBI Bank                                           2213\n",
      "Punjab National Bank                                1747\n",
      "Bank of India                                       1713\n",
      "Bank of Baroda                                      1675\n",
      "Standard Chartered Bank                             1434\n",
      "Canara Bank                                         1385\n",
      "Union Bank of India                                 1330\n",
      "Yes Bank                                            1120\n",
      "ING Vysya                                            996\n",
      "Corporation bank                                     948\n",
      "Indian Overseas Bank                                 901\n",
      "State Bank of Hyderabad                              854\n",
      "Indian Bank                                          773\n",
      "Oriental Bank of Commerce                            761\n",
      "IndusInd Bank                                        711\n",
      "Andhra Bank                                          706\n",
      "Central Bank of India                                648\n",
      "Syndicate Bank                                       614\n",
      "Bank of Maharasthra                                  576\n",
      "HSBC                                                 474\n",
      "State Bank of Bikaner & Jaipur                       448\n",
      "Karur Vysya Bank                                     435\n",
      "State Bank of Mysore                                 385\n",
      "Federal Bank                                         377\n",
      "Vijaya Bank                                          354\n",
      "Allahabad Bank                                       345\n",
      "UCO Bank                                             344\n",
      "State Bank of Travancore                             333\n",
      "Karnataka Bank                                       279\n",
      "United Bank of India                                 276\n",
      "Dena Bank                                            268\n",
      "Saraswat Bank                                        265\n",
      "State Bank of Patiala                                263\n",
      "South Indian Bank                                    223\n",
      "Deutsche Bank                                        176\n",
      "Abhyuday Co-op Bank Ltd                              161\n",
      "The Ratnakar Bank Ltd                                113\n",
      "Tamil Nadu Mercantile Bank                           103\n",
      "Punjab & Sind bank                                    84\n",
      "J&K Bank                                              78\n",
      "Lakshmi Vilas bank                                    69\n",
      "Dhanalakshmi Bank Ltd                                 66\n",
      "State Bank of Indore                                  32\n",
      "Catholic Syrian Bank                                  27\n",
      "India Bulls                                           21\n",
      "B N P Paribas                                         15\n",
      "Firstrand Bank Limited                                11\n",
      "GIC Housing Finance Ltd                               10\n",
      "Bank of Rajasthan                                      8\n",
      "Kerala Gramin Bank                                     4\n",
      "Industrial And Commercial Bank Of China Limited        3\n",
      "Ahmedabad Mercantile Cooperative Bank                  1\n",
      "Name: Salary_Account, dtype: int64\n",
      "'Frequency count for variable Mobile_Verified'\n",
      "Y    80928\n",
      "N    43809\n",
      "Name: Mobile_Verified, dtype: int64\n",
      "'Frequency count for variable Var1'\n",
      "HBXX    84901\n",
      "HBXC    12952\n",
      "HBXB     6502\n",
      "HAXA     4214\n",
      "HBXA     3042\n",
      "HAXB     2879\n",
      "HBXD     2818\n",
      "HAXC     2171\n",
      "HBXH     1387\n",
      "HCXF      990\n",
      "HAYT      710\n",
      "HAVC      570\n",
      "HAXM      386\n",
      "HCXD      348\n",
      "HCYS      318\n",
      "HVYS      252\n",
      "HAZD      161\n",
      "HCXG      114\n",
      "HAXF       22\n",
      "Name: Var1, dtype: int64\n",
      "'Frequency count for variable Filled_Form'\n",
      "N    96740\n",
      "Y    27997\n",
      "Name: Filled_Form, dtype: int64\n",
      "'Frequency count for variable Device_Type'\n",
      "Web-browser    92105\n",
      "Mobile         32632\n",
      "Name: Device_Type, dtype: int64\n",
      "'Frequency count for variable Var2'\n",
      "B    53481\n",
      "G    47338\n",
      "C    20366\n",
      "E     1855\n",
      "D      918\n",
      "F      770\n",
      "A        9\n",
      "Name: Var2, dtype: int64\n",
      "'Frequency count for variable Source'\n",
      "S122    55249\n",
      "S133    42900\n",
      "S159     7999\n",
      "S143     6140\n",
      "S127     2804\n",
      "S137     2450\n",
      "S134     1900\n",
      "S161     1109\n",
      "S151     1018\n",
      "S157      929\n",
      "S153      705\n",
      "S144      447\n",
      "S156      432\n",
      "S158      294\n",
      "S123      112\n",
      "S141       83\n",
      "S162       60\n",
      "S124       43\n",
      "S150       19\n",
      "S160       11\n",
      "S155        5\n",
      "S136        5\n",
      "S138        5\n",
      "S139        4\n",
      "S129        4\n",
      "S135        2\n",
      "S154        1\n",
      "S125        1\n",
      "S132        1\n",
      "S126        1\n",
      "S142        1\n",
      "S130        1\n",
      "S140        1\n",
      "S131        1\n",
      "Name: Source, dtype: int64\n"
     ]
    }
   ],
   "source": [
    "var = ['Gender','Salary_Account','Mobile_Verified','Var1','Filled_Form','Device_Type','Var2','Source']\n",
    "for v in var:\n",
    "    pprint( 'Frequency count for variable %s'%v)\n",
    "    pprint( data[v].value_counts())"
   ]
  },
  {
   "cell_type": "code",
   "execution_count": null,
   "metadata": {
    "collapsed": true
   },
   "outputs": [],
   "source": []
  },
  {
   "cell_type": "code",
   "execution_count": null,
   "metadata": {
    "collapsed": true
   },
   "outputs": [],
   "source": []
  },
  {
   "cell_type": "code",
   "execution_count": null,
   "metadata": {
    "collapsed": true
   },
   "outputs": [],
   "source": []
  },
  {
   "cell_type": "code",
   "execution_count": null,
   "metadata": {
    "collapsed": true
   },
   "outputs": [],
   "source": []
  },
  {
   "cell_type": "code",
   "execution_count": null,
   "metadata": {
    "collapsed": true
   },
   "outputs": [],
   "source": []
  },
  {
   "cell_type": "code",
   "execution_count": null,
   "metadata": {
    "collapsed": true
   },
   "outputs": [],
   "source": []
  },
  {
   "cell_type": "code",
   "execution_count": null,
   "metadata": {
    "collapsed": true
   },
   "outputs": [],
   "source": []
  },
  {
   "cell_type": "code",
   "execution_count": 31,
   "metadata": {
    "collapsed": false
   },
   "outputs": [
    {
     "ename": "FileNotFoundError",
     "evalue": "File b'train_modified.csv' does not exist",
     "output_type": "error",
     "traceback": [
      "\u001b[0;31m---------------------------------------------------------------------------\u001b[0m",
      "\u001b[0;31mFileNotFoundError\u001b[0m                         Traceback (most recent call last)",
      "\u001b[0;32m<ipython-input-31-c6fe34c6accc>\u001b[0m in \u001b[0;36m<module>\u001b[0;34m()\u001b[0m\n\u001b[1;32m      1\u001b[0m \u001b[0mrcParams\u001b[0m\u001b[0;34m[\u001b[0m\u001b[0;34m'figure.figsize'\u001b[0m\u001b[0;34m]\u001b[0m \u001b[0;34m=\u001b[0m \u001b[0;36m12\u001b[0m\u001b[0;34m,\u001b[0m \u001b[0;36m4\u001b[0m\u001b[0;34m\u001b[0m\u001b[0m\n\u001b[1;32m      2\u001b[0m \u001b[0;34m\u001b[0m\u001b[0m\n\u001b[0;32m----> 3\u001b[0;31m \u001b[0mtrain\u001b[0m \u001b[0;34m=\u001b[0m \u001b[0mpd\u001b[0m\u001b[0;34m.\u001b[0m\u001b[0mread_csv\u001b[0m\u001b[0;34m(\u001b[0m\u001b[0;34m'train_modified.csv'\u001b[0m\u001b[0;34m)\u001b[0m\u001b[0;34m\u001b[0m\u001b[0m\n\u001b[0m\u001b[1;32m      4\u001b[0m \u001b[0mtarget\u001b[0m \u001b[0;34m=\u001b[0m \u001b[0;34m'Disbursed'\u001b[0m\u001b[0;34m\u001b[0m\u001b[0m\n\u001b[1;32m      5\u001b[0m \u001b[0mIDcol\u001b[0m \u001b[0;34m=\u001b[0m \u001b[0;34m'ID'\u001b[0m\u001b[0;34m\u001b[0m\u001b[0m\n",
      "\u001b[0;32m/home/manavee/anaconda3/lib/python3.6/site-packages/pandas/io/parsers.py\u001b[0m in \u001b[0;36mparser_f\u001b[0;34m(filepath_or_buffer, sep, delimiter, header, names, index_col, usecols, squeeze, prefix, mangle_dupe_cols, dtype, engine, converters, true_values, false_values, skipinitialspace, skiprows, nrows, na_values, keep_default_na, na_filter, verbose, skip_blank_lines, parse_dates, infer_datetime_format, keep_date_col, date_parser, dayfirst, iterator, chunksize, compression, thousands, decimal, lineterminator, quotechar, quoting, escapechar, comment, encoding, dialect, tupleize_cols, error_bad_lines, warn_bad_lines, skipfooter, skip_footer, doublequote, delim_whitespace, as_recarray, compact_ints, use_unsigned, low_memory, buffer_lines, memory_map, float_precision)\u001b[0m\n\u001b[1;32m    644\u001b[0m                     skip_blank_lines=skip_blank_lines)\n\u001b[1;32m    645\u001b[0m \u001b[0;34m\u001b[0m\u001b[0m\n\u001b[0;32m--> 646\u001b[0;31m         \u001b[0;32mreturn\u001b[0m \u001b[0m_read\u001b[0m\u001b[0;34m(\u001b[0m\u001b[0mfilepath_or_buffer\u001b[0m\u001b[0;34m,\u001b[0m \u001b[0mkwds\u001b[0m\u001b[0;34m)\u001b[0m\u001b[0;34m\u001b[0m\u001b[0m\n\u001b[0m\u001b[1;32m    647\u001b[0m \u001b[0;34m\u001b[0m\u001b[0m\n\u001b[1;32m    648\u001b[0m     \u001b[0mparser_f\u001b[0m\u001b[0;34m.\u001b[0m\u001b[0m__name__\u001b[0m \u001b[0;34m=\u001b[0m \u001b[0mname\u001b[0m\u001b[0;34m\u001b[0m\u001b[0m\n",
      "\u001b[0;32m/home/manavee/anaconda3/lib/python3.6/site-packages/pandas/io/parsers.py\u001b[0m in \u001b[0;36m_read\u001b[0;34m(filepath_or_buffer, kwds)\u001b[0m\n\u001b[1;32m    387\u001b[0m \u001b[0;34m\u001b[0m\u001b[0m\n\u001b[1;32m    388\u001b[0m     \u001b[0;31m# Create the parser.\u001b[0m\u001b[0;34m\u001b[0m\u001b[0;34m\u001b[0m\u001b[0m\n\u001b[0;32m--> 389\u001b[0;31m     \u001b[0mparser\u001b[0m \u001b[0;34m=\u001b[0m \u001b[0mTextFileReader\u001b[0m\u001b[0;34m(\u001b[0m\u001b[0mfilepath_or_buffer\u001b[0m\u001b[0;34m,\u001b[0m \u001b[0;34m**\u001b[0m\u001b[0mkwds\u001b[0m\u001b[0;34m)\u001b[0m\u001b[0;34m\u001b[0m\u001b[0m\n\u001b[0m\u001b[1;32m    390\u001b[0m \u001b[0;34m\u001b[0m\u001b[0m\n\u001b[1;32m    391\u001b[0m     \u001b[0;32mif\u001b[0m \u001b[0;34m(\u001b[0m\u001b[0mnrows\u001b[0m \u001b[0;32mis\u001b[0m \u001b[0;32mnot\u001b[0m \u001b[0;32mNone\u001b[0m\u001b[0;34m)\u001b[0m \u001b[0;32mand\u001b[0m \u001b[0;34m(\u001b[0m\u001b[0mchunksize\u001b[0m \u001b[0;32mis\u001b[0m \u001b[0;32mnot\u001b[0m \u001b[0;32mNone\u001b[0m\u001b[0;34m)\u001b[0m\u001b[0;34m:\u001b[0m\u001b[0;34m\u001b[0m\u001b[0m\n",
      "\u001b[0;32m/home/manavee/anaconda3/lib/python3.6/site-packages/pandas/io/parsers.py\u001b[0m in \u001b[0;36m__init__\u001b[0;34m(self, f, engine, **kwds)\u001b[0m\n\u001b[1;32m    728\u001b[0m             \u001b[0mself\u001b[0m\u001b[0;34m.\u001b[0m\u001b[0moptions\u001b[0m\u001b[0;34m[\u001b[0m\u001b[0;34m'has_index_names'\u001b[0m\u001b[0;34m]\u001b[0m \u001b[0;34m=\u001b[0m \u001b[0mkwds\u001b[0m\u001b[0;34m[\u001b[0m\u001b[0;34m'has_index_names'\u001b[0m\u001b[0;34m]\u001b[0m\u001b[0;34m\u001b[0m\u001b[0m\n\u001b[1;32m    729\u001b[0m \u001b[0;34m\u001b[0m\u001b[0m\n\u001b[0;32m--> 730\u001b[0;31m         \u001b[0mself\u001b[0m\u001b[0;34m.\u001b[0m\u001b[0m_make_engine\u001b[0m\u001b[0;34m(\u001b[0m\u001b[0mself\u001b[0m\u001b[0;34m.\u001b[0m\u001b[0mengine\u001b[0m\u001b[0;34m)\u001b[0m\u001b[0;34m\u001b[0m\u001b[0m\n\u001b[0m\u001b[1;32m    731\u001b[0m \u001b[0;34m\u001b[0m\u001b[0m\n\u001b[1;32m    732\u001b[0m     \u001b[0;32mdef\u001b[0m \u001b[0mclose\u001b[0m\u001b[0;34m(\u001b[0m\u001b[0mself\u001b[0m\u001b[0;34m)\u001b[0m\u001b[0;34m:\u001b[0m\u001b[0;34m\u001b[0m\u001b[0m\n",
      "\u001b[0;32m/home/manavee/anaconda3/lib/python3.6/site-packages/pandas/io/parsers.py\u001b[0m in \u001b[0;36m_make_engine\u001b[0;34m(self, engine)\u001b[0m\n\u001b[1;32m    921\u001b[0m     \u001b[0;32mdef\u001b[0m \u001b[0m_make_engine\u001b[0m\u001b[0;34m(\u001b[0m\u001b[0mself\u001b[0m\u001b[0;34m,\u001b[0m \u001b[0mengine\u001b[0m\u001b[0;34m=\u001b[0m\u001b[0;34m'c'\u001b[0m\u001b[0;34m)\u001b[0m\u001b[0;34m:\u001b[0m\u001b[0;34m\u001b[0m\u001b[0m\n\u001b[1;32m    922\u001b[0m         \u001b[0;32mif\u001b[0m \u001b[0mengine\u001b[0m \u001b[0;34m==\u001b[0m \u001b[0;34m'c'\u001b[0m\u001b[0;34m:\u001b[0m\u001b[0;34m\u001b[0m\u001b[0m\n\u001b[0;32m--> 923\u001b[0;31m             \u001b[0mself\u001b[0m\u001b[0;34m.\u001b[0m\u001b[0m_engine\u001b[0m \u001b[0;34m=\u001b[0m \u001b[0mCParserWrapper\u001b[0m\u001b[0;34m(\u001b[0m\u001b[0mself\u001b[0m\u001b[0;34m.\u001b[0m\u001b[0mf\u001b[0m\u001b[0;34m,\u001b[0m \u001b[0;34m**\u001b[0m\u001b[0mself\u001b[0m\u001b[0;34m.\u001b[0m\u001b[0moptions\u001b[0m\u001b[0;34m)\u001b[0m\u001b[0;34m\u001b[0m\u001b[0m\n\u001b[0m\u001b[1;32m    924\u001b[0m         \u001b[0;32melse\u001b[0m\u001b[0;34m:\u001b[0m\u001b[0;34m\u001b[0m\u001b[0m\n\u001b[1;32m    925\u001b[0m             \u001b[0;32mif\u001b[0m \u001b[0mengine\u001b[0m \u001b[0;34m==\u001b[0m \u001b[0;34m'python'\u001b[0m\u001b[0;34m:\u001b[0m\u001b[0;34m\u001b[0m\u001b[0m\n",
      "\u001b[0;32m/home/manavee/anaconda3/lib/python3.6/site-packages/pandas/io/parsers.py\u001b[0m in \u001b[0;36m__init__\u001b[0;34m(self, src, **kwds)\u001b[0m\n\u001b[1;32m   1388\u001b[0m         \u001b[0mkwds\u001b[0m\u001b[0;34m[\u001b[0m\u001b[0;34m'allow_leading_cols'\u001b[0m\u001b[0;34m]\u001b[0m \u001b[0;34m=\u001b[0m \u001b[0mself\u001b[0m\u001b[0;34m.\u001b[0m\u001b[0mindex_col\u001b[0m \u001b[0;32mis\u001b[0m \u001b[0;32mnot\u001b[0m \u001b[0;32mFalse\u001b[0m\u001b[0;34m\u001b[0m\u001b[0m\n\u001b[1;32m   1389\u001b[0m \u001b[0;34m\u001b[0m\u001b[0m\n\u001b[0;32m-> 1390\u001b[0;31m         \u001b[0mself\u001b[0m\u001b[0;34m.\u001b[0m\u001b[0m_reader\u001b[0m \u001b[0;34m=\u001b[0m \u001b[0m_parser\u001b[0m\u001b[0;34m.\u001b[0m\u001b[0mTextReader\u001b[0m\u001b[0;34m(\u001b[0m\u001b[0msrc\u001b[0m\u001b[0;34m,\u001b[0m \u001b[0;34m**\u001b[0m\u001b[0mkwds\u001b[0m\u001b[0;34m)\u001b[0m\u001b[0;34m\u001b[0m\u001b[0m\n\u001b[0m\u001b[1;32m   1391\u001b[0m \u001b[0;34m\u001b[0m\u001b[0m\n\u001b[1;32m   1392\u001b[0m         \u001b[0;31m# XXX\u001b[0m\u001b[0;34m\u001b[0m\u001b[0;34m\u001b[0m\u001b[0m\n",
      "\u001b[0;32mpandas/parser.pyx\u001b[0m in \u001b[0;36mpandas.parser.TextReader.__cinit__ (pandas/parser.c:4184)\u001b[0;34m()\u001b[0m\n",
      "\u001b[0;32mpandas/parser.pyx\u001b[0m in \u001b[0;36mpandas.parser.TextReader._setup_parser_source (pandas/parser.c:8449)\u001b[0;34m()\u001b[0m\n",
      "\u001b[0;31mFileNotFoundError\u001b[0m: File b'train_modified.csv' does not exist"
     ]
    }
   ],
   "source": [
    "rcParams['figure.figsize'] = 12, 4\n",
    "\n",
    "train = pd.read_csv('train_modified.csv')\n",
    "target = 'Disbursed'\n",
    "IDcol = 'ID'"
   ]
  },
  {
   "cell_type": "code",
   "execution_count": null,
   "metadata": {
    "collapsed": true
   },
   "outputs": [],
   "source": []
  }
 ],
 "metadata": {
  "kernelspec": {
   "display_name": "Python 3",
   "language": "python",
   "name": "python3"
  },
  "language_info": {
   "codemirror_mode": {
    "name": "ipython",
    "version": 3
   },
   "file_extension": ".py",
   "mimetype": "text/x-python",
   "name": "python",
   "nbconvert_exporter": "python",
   "pygments_lexer": "ipython3",
   "version": "3.6.0"
  }
 },
 "nbformat": 4,
 "nbformat_minor": 2
}
